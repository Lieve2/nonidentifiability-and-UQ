{
 "cells": [
  {
   "cell_type": "markdown",
   "metadata": {
    "cell_id": "00000-59f6c910-5ade-4cf9-b3d0-928d75701a67",
    "deepnote_cell_type": "markdown"
   },
   "source": [
    "### Lunar Lander BNN_LV with PYMC3\n",
    "Using ADVI sampling in pymc3 to sample from posterior of BNN_LV"
   ]
  },
  {
   "cell_type": "code",
   "execution_count": 1,
   "metadata": {},
   "outputs": [],
   "source": [
    "from numpy.random import seed\n",
    "seed(1)\n",
    "import tensorflow\n",
    "tensorflow.random.set_seed(1)"
   ]
  },
  {
   "cell_type": "code",
   "execution_count": 2,
   "metadata": {
    "cell_id": "00001-3b43bc55-f5ab-48a7-8ca2-af9577d631c0",
    "deepnote_cell_type": "code",
    "execution_millis": 1,
    "execution_start": 1608430058868,
    "output_cleared": false,
    "source_hash": "f70fad9f"
   },
   "outputs": [],
   "source": [
    "from autograd import numpy as np\n",
    "from autograd import grad\n",
    "from autograd.misc.optimizers import adam, sgd\n",
    "from autograd import scipy as sp\n",
    "import pandas as pd\n",
    "import numpy as np\n",
    "import matplotlib.pyplot as plt\n",
    "import matplotlib\n",
    "import scipy as sp\n",
    "import sys\n",
    "import pymc3 as pm\n",
    "import arviz as az\n",
    "import seaborn as sns\n",
    "import pickle\n",
    "# from pymc3.theanof import MRG_RandomStreams, set_tt_rng\n",
    "import theano.tensor as tt\n",
    "from tqdm import tqdm\n",
    "from numpy.random import default_rng\n",
    "import time\n",
    "from IPython.core.debugger import set_trace\n",
    "import warnings\n",
    "warnings.filterwarnings(\"ignore\")\n",
    "%matplotlib inline"
   ]
  },
  {
   "cell_type": "code",
   "execution_count": 3,
   "metadata": {
    "cell_id": "00002-ef9c1abd-8269-456a-8246-828107afee9b",
    "deepnote_cell_type": "code"
   },
   "outputs": [],
   "source": [
    "%load_ext autoreload\n",
    "%autoreload 2\n",
    "\n",
    "import sys\n",
    "sys.path.append('..')\n",
    "from utils.data_gen import sample_gaussian_mixture, generate_regression_outputs\n",
    "from utils.BNN_pymc3 import BNN_LV as BNN_LV_pymc3\n",
    "from utils.custom_callbacks_pymc3 import plot95ci, wb_scatter, build_wb_callback\n",
    "from utils.decomposition import lunar_entropy_decompose\n",
    "from utils.calculations import PPO"
   ]
  },
  {
   "cell_type": "code",
   "execution_count": 4,
   "metadata": {},
   "outputs": [],
   "source": [
    "%config InlineBackend.figure_format = 'retina'\n",
    "\n",
    "np.set_printoptions(precision=3, suppress=True)\n",
    "RANDOM_SEED = 31418 #maybe make this same seed for all notebooks to get exact same data??\n",
    "rng = default_rng(RANDOM_SEED)"
   ]
  },
  {
   "cell_type": "markdown",
   "metadata": {
    "cell_id": "00003-a58ca3f9-4613-48a8-9166-549d5f741ea2",
    "deepnote_cell_type": "markdown"
   },
   "source": [
    "## Lunar Lander"
   ]
  },
  {
   "cell_type": "code",
   "execution_count": 5,
   "metadata": {
    "cell_id": "00004-5f7e4d40-73fc-45d3-8efd-c35e418cacf4",
    "deepnote_cell_type": "code"
   },
   "outputs": [],
   "source": [
    "from utils.games import LunarLander2D"
   ]
  },
  {
   "cell_type": "markdown",
   "metadata": {
    "cell_id": "00005-21080c40-12ce-4f14-865f-4ab45b615577",
    "deepnote_cell_type": "markdown"
   },
   "source": [
    "### Set up simulation and extract data"
   ]
  },
  {
   "cell_type": "code",
   "execution_count": 6,
   "metadata": {
    "cell_id": "00006-8b20c763-99fc-4985-88e2-2cac82c06d97",
    "deepnote_cell_type": "code"
   },
   "outputs": [
    {
     "name": "stdout",
     "output_type": "stream",
     "text": [
      "Episode 100/100 took 20 steps.\n"
     ]
    }
   ],
   "source": [
    "env = LunarLander2D(L=4, W=5, max_steps=20, seed=207)\n",
    "no_action_policy = lambda state: (0,0)  # For any state, play the \"do nothing\" action.\n",
    "random_policy = None  # If the policy is None, the simulator chooses an action at random.\n",
    "\n",
    "# choose to run on the no-action policy\n",
    "env.run(episodes=100, progress=100, policy=no_action_policy)"
   ]
  },
  {
   "cell_type": "code",
   "execution_count": 7,
   "metadata": {
    "cell_id": "00007-41012292-e6b8-41e6-bb55-1cbf5711591a",
    "deepnote_cell_type": "code"
   },
   "outputs": [
    {
     "data": {
      "text/html": [
       "<div>\n",
       "<style scoped>\n",
       "    .dataframe tbody tr th:only-of-type {\n",
       "        vertical-align: middle;\n",
       "    }\n",
       "\n",
       "    .dataframe tbody tr th {\n",
       "        vertical-align: top;\n",
       "    }\n",
       "\n",
       "    .dataframe thead th {\n",
       "        text-align: right;\n",
       "    }\n",
       "</style>\n",
       "<table border=\"1\" class=\"dataframe\">\n",
       "  <thead>\n",
       "    <tr style=\"text-align: right;\">\n",
       "      <th></th>\n",
       "      <th>start_x</th>\n",
       "      <th>start_y</th>\n",
       "      <th>action_x</th>\n",
       "      <th>action_y</th>\n",
       "      <th>result_x</th>\n",
       "      <th>result_y</th>\n",
       "    </tr>\n",
       "  </thead>\n",
       "  <tbody>\n",
       "    <tr>\n",
       "      <th>1031</th>\n",
       "      <td>4</td>\n",
       "      <td>3</td>\n",
       "      <td>0</td>\n",
       "      <td>0</td>\n",
       "      <td>4</td>\n",
       "      <td>2</td>\n",
       "    </tr>\n",
       "    <tr>\n",
       "      <th>320</th>\n",
       "      <td>3</td>\n",
       "      <td>0</td>\n",
       "      <td>0</td>\n",
       "      <td>0</td>\n",
       "      <td>3</td>\n",
       "      <td>0</td>\n",
       "    </tr>\n",
       "    <tr>\n",
       "      <th>1445</th>\n",
       "      <td>5</td>\n",
       "      <td>0</td>\n",
       "      <td>0</td>\n",
       "      <td>0</td>\n",
       "      <td>5</td>\n",
       "      <td>0</td>\n",
       "    </tr>\n",
       "    <tr>\n",
       "      <th>260</th>\n",
       "      <td>1</td>\n",
       "      <td>4</td>\n",
       "      <td>0</td>\n",
       "      <td>0</td>\n",
       "      <td>1</td>\n",
       "      <td>4</td>\n",
       "    </tr>\n",
       "    <tr>\n",
       "      <th>1308</th>\n",
       "      <td>5</td>\n",
       "      <td>0</td>\n",
       "      <td>0</td>\n",
       "      <td>0</td>\n",
       "      <td>5</td>\n",
       "      <td>0</td>\n",
       "    </tr>\n",
       "    <tr>\n",
       "      <th>...</th>\n",
       "      <td>...</td>\n",
       "      <td>...</td>\n",
       "      <td>...</td>\n",
       "      <td>...</td>\n",
       "      <td>...</td>\n",
       "      <td>...</td>\n",
       "    </tr>\n",
       "    <tr>\n",
       "      <th>1122</th>\n",
       "      <td>3</td>\n",
       "      <td>0</td>\n",
       "      <td>0</td>\n",
       "      <td>0</td>\n",
       "      <td>3</td>\n",
       "      <td>0</td>\n",
       "    </tr>\n",
       "    <tr>\n",
       "      <th>1346</th>\n",
       "      <td>2</td>\n",
       "      <td>0</td>\n",
       "      <td>0</td>\n",
       "      <td>0</td>\n",
       "      <td>2</td>\n",
       "      <td>0</td>\n",
       "    </tr>\n",
       "    <tr>\n",
       "      <th>1406</th>\n",
       "      <td>4</td>\n",
       "      <td>0</td>\n",
       "      <td>0</td>\n",
       "      <td>0</td>\n",
       "      <td>4</td>\n",
       "      <td>0</td>\n",
       "    </tr>\n",
       "    <tr>\n",
       "      <th>1389</th>\n",
       "      <td>5</td>\n",
       "      <td>0</td>\n",
       "      <td>0</td>\n",
       "      <td>0</td>\n",
       "      <td>5</td>\n",
       "      <td>0</td>\n",
       "    </tr>\n",
       "    <tr>\n",
       "      <th>1534</th>\n",
       "      <td>5</td>\n",
       "      <td>0</td>\n",
       "      <td>0</td>\n",
       "      <td>0</td>\n",
       "      <td>5</td>\n",
       "      <td>0</td>\n",
       "    </tr>\n",
       "  </tbody>\n",
       "</table>\n",
       "<p>1598 rows × 6 columns</p>\n",
       "</div>"
      ],
      "text/plain": [
       "      start_x  start_y  action_x  action_y  result_x  result_y\n",
       "1031        4        3         0         0         4         2\n",
       "320         3        0         0         0         3         0\n",
       "1445        5        0         0         0         5         0\n",
       "260         1        4         0         0         1         4\n",
       "1308        5        0         0         0         5         0\n",
       "...       ...      ...       ...       ...       ...       ...\n",
       "1122        3        0         0         0         3         0\n",
       "1346        2        0         0         0         2         0\n",
       "1406        4        0         0         0         4         0\n",
       "1389        5        0         0         0         5         0\n",
       "1534        5        0         0         0         5         0\n",
       "\n",
       "[1598 rows x 6 columns]"
      ]
     },
     "execution_count": 7,
     "metadata": {},
     "output_type": "execute_result"
    }
   ],
   "source": [
    "transitions = env.extract_transition_dataset()\n",
    "transitions = transitions.sample(frac=1, replace=False, random_state=123)\n",
    "transitions"
   ]
  },
  {
   "cell_type": "code",
   "execution_count": 8,
   "metadata": {
    "cell_id": "00008-1aa35825-e4a5-4f99-9081-cd542084cda0",
    "deepnote_cell_type": "code"
   },
   "outputs": [
    {
     "name": "stdout",
     "output_type": "stream",
     "text": [
      "X : (1598, 4)\n",
      "Y : (1598, 2)\n"
     ]
    }
   ],
   "source": [
    "# Build training data (ignore X dimension and try to use starting Y position and Y action to predict landing Y position):\n",
    "X_train = transitions[['start_x','start_y','action_x','action_y']].to_numpy()\n",
    "Y_train = transitions[['result_x','result_y']].to_numpy()\n",
    "\n",
    "print('X :',X_train.shape)\n",
    "print('Y :',Y_train.shape)\n"
   ]
  },
  {
   "cell_type": "markdown",
   "metadata": {
    "cell_id": "00009-7cf77abe-b680-458e-860b-3ddcad195e48",
    "deepnote_cell_type": "markdown"
   },
   "source": [
    "### Setup BNN_LV architecture and perform MLE fit"
   ]
  },
  {
   "cell_type": "code",
   "execution_count": 9,
   "metadata": {
    "cell_id": "00010-d5baf91c-c56d-491a-ab75-45919476962c",
    "deepnote_cell_type": "code"
   },
   "outputs": [
    {
     "name": "stdout",
     "output_type": "stream",
     "text": [
      "Iteration 0 lower bound 2646.096337433959; gradient mag: 6061.788603341931\n",
      "Iteration 500 lower bound 0.22921482692358316; gradient mag: 0.701654750765489\n",
      "Iteration 1000 lower bound 0.16745112375411556; gradient mag: 0.3678438077869452\n",
      "Iteration 1500 lower bound 0.13787118880350424; gradient mag: 0.1974624817857982\n",
      "Iteration 2000 lower bound 0.11687353213758936; gradient mag: 0.1297895781285146\n",
      "Iteration 2500 lower bound 0.10243598328524456; gradient mag: 0.08147604806238404\n",
      "Iteration 3000 lower bound 0.09403996953491084; gradient mag: 0.06523531391007817\n",
      "Iteration 3500 lower bound 0.08969548468738456; gradient mag: 0.06261075664616812\n",
      "Iteration 4000 lower bound 0.08731744799811035; gradient mag: 0.08022712256963357\n",
      "Iteration 4500 lower bound 0.08465591981245585; gradient mag: 0.2514360889520257\n"
     ]
    }
   ],
   "source": [
    "# Parameters\n",
    "gamma_lunar = 2 \n",
    "sigma_lunar = 1\n",
    "\n",
    "architecture_lunar = {'input_n':4, \n",
    "             'output_n':2, \n",
    "             'hidden_layers':[20,20],\n",
    "             'biases' : [1,1,1],\n",
    "             'activations' : ['relu', 'relu', 'linear'],\n",
    "             'gamma':[gamma_lunar],\n",
    "             'sigma':[sigma_lunar,sigma_lunar]}\n",
    "\n",
    "bnn_lv_lunar = BNN_LV_pymc3(architecture=architecture_lunar, seed=1)\n",
    "\n",
    "bnn_lv_lunar.fit(X_train, Y_train, step_size=0.01, max_iteration=5000, check_point=500, regularization_coef=None)"
   ]
  },
  {
   "cell_type": "markdown",
   "metadata": {},
   "source": [
    "### Prepare parameters for pymc3 sampling"
   ]
  },
  {
   "cell_type": "code",
   "execution_count": 10,
   "metadata": {
    "cell_id": "00012-0575caae-6b57-4771-81d0-2cce605638fd",
    "deepnote_cell_type": "code"
   },
   "outputs": [],
   "source": [
    "p_mu = 0\n",
    "p_sigma = 5\n",
    "l_sigma = 0.25\n",
    "lv_gamma = 2 \n",
    "\n",
    "my_draws = 30000 \n"
   ]
  },
  {
   "cell_type": "markdown",
   "metadata": {
    "cell_id": "00013-9dfdbd94-0721-4c12-91ca-87b8cea2ea55",
    "deepnote_cell_type": "markdown"
   },
   "source": [
    "### Run pymc3"
   ]
  },
  {
   "cell_type": "code",
   "execution_count": 11,
   "metadata": {
    "cell_id": "00014-53d15561-6189-42cf-b902-19563ecd58af",
    "deepnote_cell_type": "code"
   },
   "outputs": [
    {
     "data": {
      "text/html": [
       "\n",
       "<style>\n",
       "    /* Turns off some styling */\n",
       "    progress {\n",
       "        /* gets rid of default border in Firefox and Opera. */\n",
       "        border: none;\n",
       "        /* Needs to be in here for Safari polyfill so background images work as expected. */\n",
       "        background-size: auto;\n",
       "    }\n",
       "    .progress-bar-interrupted, .progress-bar-interrupted::-webkit-progress-bar {\n",
       "        background: #F44336;\n",
       "    }\n",
       "</style>\n"
      ],
      "text/plain": [
       "<IPython.core.display.HTML object>"
      ]
     },
     "metadata": {},
     "output_type": "display_data"
    },
    {
     "data": {
      "text/html": [
       "\n",
       "    <div>\n",
       "      <progress value='10000' class='' max='10000' style='width:300px; height:20px; vertical-align: middle;'></progress>\n",
       "      100.00% [10000/10000 25:22<00:00 Average Loss = 2.2669e+05]\n",
       "    </div>\n",
       "    "
      ],
      "text/plain": [
       "<IPython.core.display.HTML object>"
      ]
     },
     "metadata": {},
     "output_type": "display_data"
    },
    {
     "name": "stderr",
     "output_type": "stream",
     "text": [
      "Finished [100%]: Average Loss = 2.2669e+05\n"
     ]
    }
   ],
   "source": [
    "from fastprogress import fastprogress\n",
    "fastprogress.printing = lambda: True\n",
    "\n",
    "with pm.Model() as pm_model:\n",
    "\n",
    "    # Prior on w (same shape as MLE)\n",
    "    w_prior = pm.Uniform(name='w', lower=-0.01, upper=0.01, shape=bnn_lv_lunar.weights.shape) \n",
    "\n",
    "    # Latent variable prior (same shape as number of datapoints)\n",
    "    lv_prior = pm.Uniform(name='z', lower=-0.01, upper=0.01, shape=(X_train.shape[0],1)) \n",
    "\n",
    "    y = pm.Normal('y', mu = bnn_lv_lunar.forward(X = X_train, input_noise = lv_prior, weights=w_prior),\n",
    "                        sigma = l_sigma,\n",
    "                        observed = Y_train)\n",
    "\n",
    "    mean_field = pm.fit(method='advi',  \n",
    "                        callbacks=[pm.callbacks.CheckParametersConvergence()], \n",
    "                        obj_optimizer=pm.adam(learning_rate=0.01), obj_n_mc=100)\n",
    "    \n",
    "    trace = mean_field.sample(draws=my_draws)\n",
    "    \n",
    "    #prior analysis\n",
    "    prior_pc = pm.sample_prior_predictive()\n",
    "    \n",
    "    #posterior predictive\n",
    "    ppc = pm.fast_sample_posterior_predictive(trace=trace)\n",
    "    \n",
    "    #generate inference data\n",
    "    idata = az.from_pymc3(trace=trace, prior=prior_pc, posterior_predictive=ppc, log_likelihood=True)"
   ]
  },
  {
   "cell_type": "markdown",
   "metadata": {
    "cell_id": "00015-1333cd21-cef9-41be-a8c5-48fdb079ce5a",
    "deepnote_cell_type": "markdown"
   },
   "source": [
    "### Complete sampling and save/load samples obtained"
   ]
  },
  {
   "cell_type": "code",
   "execution_count": 12,
   "metadata": {},
   "outputs": [],
   "source": [
    "np.save('./d4rl-atari/saved_samples/lunar_samples_pymc3ADVI-2.npy',trace['w'])\n"
   ]
  },
  {
   "cell_type": "code",
   "execution_count": 13,
   "metadata": {},
   "outputs": [],
   "source": [
    "posterior_samples_lunar = np.load('./d4rl-atari/saved_samples/lunar_samples_pymc3ADVI-2.npy')\n"
   ]
  },
  {
   "cell_type": "code",
   "execution_count": 14,
   "metadata": {},
   "outputs": [
    {
     "data": {
      "text/plain": [
       "'./idata_Ladvi_uni.nc'"
      ]
     },
     "execution_count": 14,
     "metadata": {},
     "output_type": "execute_result"
    }
   ],
   "source": [
    "idata.to_netcdf('./idata_Ladvi_uni.nc')\n"
   ]
  },
  {
   "cell_type": "code",
   "execution_count": 15,
   "metadata": {},
   "outputs": [],
   "source": [
    "idata = az.from_netcdf('./idata_Ladvi_uni.nc')"
   ]
  },
  {
   "cell_type": "code",
   "execution_count": 16,
   "metadata": {},
   "outputs": [],
   "source": [
    "with open('./trace_Ladvi_uni.p', 'wb') as f:\n",
    "    pickle.dump(trace, f)\n",
    "    "
   ]
  },
  {
   "cell_type": "code",
   "execution_count": 17,
   "metadata": {},
   "outputs": [],
   "source": [
    "with open('./trace_Ladvi_uni.p', 'rb') as f:\n",
    "    trace = pickle.load(f)"
   ]
  },
  {
   "cell_type": "code",
   "execution_count": 18,
   "metadata": {},
   "outputs": [],
   "source": [
    "with open('./model_Ladvi_uni.p', 'wb') as g:\n",
    "    pickle.dump(pm_model, g)\n",
    "    "
   ]
  },
  {
   "cell_type": "code",
   "execution_count": 19,
   "metadata": {},
   "outputs": [],
   "source": [
    "with open('./model_Ladvi_uni.p', 'rb') as g:\n",
    "    pm_model = pickle.load(g)"
   ]
  },
  {
   "cell_type": "code",
   "execution_count": 21,
   "metadata": {},
   "outputs": [
    {
     "data": {
      "text/plain": [
       "(30000, 1, 582)"
      ]
     },
     "execution_count": 21,
     "metadata": {},
     "output_type": "execute_result"
    }
   ],
   "source": [
    "posterior_samples_lunar.shape"
   ]
  },
  {
   "cell_type": "code",
   "execution_count": 22,
   "metadata": {},
   "outputs": [
    {
     "data": {
      "text/plain": [
       "(2500, 1, 582)"
      ]
     },
     "execution_count": 22,
     "metadata": {},
     "output_type": "execute_result"
    }
   ],
   "source": [
    "#thinning by factor of 12\n",
    "posterior_samples_lunar = posterior_samples_lunar[::12, :]\n",
    "posterior_samples_lunar.shape"
   ]
  },
  {
   "cell_type": "code",
   "execution_count": null,
   "metadata": {},
   "outputs": [],
   "source": [
    "az.style.use(\"default\")\n",
    "N = 180 # number of 15 pt repeats\n",
    "N2 = 30 # number of 15 pt repeats for calculating entropy\n",
    "L = 40 # Number of y points to take per set of samples for epistemic uncertainty\n",
    "\n",
    "# Run the entropy decomposition for the 2D chicken\n",
    "lunar_decomp = lunar_entropy_decompose(bnn_lv_lunar, transitions, posterior_samples_pymc3_chicken, \n",
    "                                                N, N2, L, 'UQ_Ladvi_uni.png')"
   ]
  },
  {
   "cell_type": "markdown",
   "metadata": {},
   "source": [
    "#### Negative log-likelihood calculation as quantitative performance measure\n",
    "\n",
    "The lower, the better"
   ]
  },
  {
   "cell_type": "code",
   "execution_count": null,
   "metadata": {},
   "outputs": [],
   "source": [
    "obs_logp = pm_model.y.logp\n",
    "loglikelihood = np.array([obs_logp(p) for p in trace.points()])\n",
    "nll = -1 * loglikelihood\n",
    "min_nll = min(nll)\n",
    "round(min_nll, 3)"
   ]
  },
  {
   "cell_type": "markdown",
   "metadata": {},
   "source": [
    "### Bayesian/posterior non-identifiability analysis "
   ]
  },
  {
   "cell_type": "markdown",
   "metadata": {},
   "source": [
    "#### Plotting the PPO"
   ]
  },
  {
   "cell_type": "code",
   "execution_count": null,
   "metadata": {},
   "outputs": [],
   "source": [
    "#plot prior and posterior in one plot for qualitative/visual overlap assessment\n",
    "\n",
    "az.style.use(\"arviz-darkgrid\")\n",
    "\n",
    "fig, ax = plt.subplots(figsize=(12,8))\n",
    "az.plot_ppc(idata, mean=False, observed=False, num_pp_samples=100, group='prior', colors=['green', 'green', 'green'], ax=ax)\n",
    "az.plot_ppc(idata, mean=False, observed=False, num_pp_samples=100, group='posterior', ax=ax)\n",
    "plt.xlim(-5, 10)\n",
    "plt.savefig('PPO_Ladvi_uni.png', dpi=300)\n",
    "plt.show()"
   ]
  },
  {
   "cell_type": "markdown",
   "metadata": {},
   "source": [
    "#### Calculating the PPO (approximation)"
   ]
  },
  {
   "cell_type": "code",
   "execution_count": null,
   "metadata": {},
   "outputs": [],
   "source": [
    "observed_data = idata.observed_data\n",
    "priorpredictive_dataset = idata.prior_predictive \n",
    "postpredictive_dataset = idata.posterior_predictive\n",
    "\n",
    "coords = {}\n",
    "\n",
    "for key in coords.keys():\n",
    "    coords[key] = np.where(np.in1d(observed_data[key], coords[key]))[0]\n",
    "    \n",
    "prior_xarray = priorpredictive_dataset.isel(coords)\n",
    "post_xarray = postpredictive_dataset.isel(coords)\n",
    "prior_array = prior_xarray['y'].stack(z=('chain', 'draw', 'y_dim_0', 'y_dim_1'))\n",
    "post_array = post_xarray['y'].stack(z=('chain', 'draw', 'y_dim_0', 'y_dim_1'))"
   ]
  },
  {
   "cell_type": "markdown",
   "metadata": {},
   "source": [
    "\\>35% is weakly identifiable, indicating posterior non-identifiability. So, the posterior is identifiable if the PPO is below 35% (0.35)"
   ]
  },
  {
   "cell_type": "code",
   "execution_count": null,
   "metadata": {},
   "outputs": [],
   "source": [
    "PPO(prior_array, post_array, 200)"
   ]
  },
  {
   "cell_type": "markdown",
   "metadata": {},
   "source": [
    "### Data cloning analysis for assessing likelihood non-identifiability\n",
    "\n",
    "Steps:  \n",
    "\n",
    "1. Perform Bayesian inference with a likelihood based on the original data (K=1), using uninformative priors on all parameters. \n",
    "\n",
    "2. Record the posterior variance for the parameters.  \n",
    "\n",
    "3. Create a data set consisting of K clones, that is, the data repeated K times.\n",
    "\n",
    "4. Perform Bayesian inference with a likelihood based on the cloned data set of step 3, using uninformative priors on all parameters.\n",
    "\n",
    "5. Record the posterior variance for the parameters. Scale this variance by dividing through by the posterior variance for K=1, found in step 2.\n",
    "\n",
    "6. Repeat steps 3 to 5 for successively larger values of K.\n",
    "\n",
    "7. If the scaled variance is approximately equal to 1/K for a parameter then that parameter is identifiable and can be estimated. If the standardized variance is much larger than 1/K then that parameter is non-identifiable and cannot be estimated. If there is at least on non-identifiable parameter, then the model with that set of data is parameter redundant. \n"
   ]
  },
  {
   "cell_type": "code",
   "execution_count": null,
   "metadata": {},
   "outputs": [],
   "source": [
    "#step 2\n",
    "var_1 = idata.posterior.var((\"chain\", \"draw\"))"
   ]
  },
  {
   "cell_type": "code",
   "execution_count": null,
   "metadata": {},
   "outputs": [],
   "source": [
    "#step 3\n",
    "K = 10\n",
    "clone = np.repeat(Y_train, K, axis=0)"
   ]
  },
  {
   "cell_type": "code",
   "execution_count": null,
   "metadata": {},
   "outputs": [],
   "source": [
    "#step 3b\n",
    "clone_X = np.repeat(X_train, K, axis=0)"
   ]
  },
  {
   "cell_type": "code",
   "execution_count": null,
   "metadata": {},
   "outputs": [],
   "source": [
    "#step 4\n",
    "from fastprogress import fastprogress\n",
    "fastprogress.printing = lambda: True\n",
    "\n",
    "with pm.Model() as pm_model2: \n",
    "    \n",
    "    # Prior on w (same shape as MLE)\n",
    "    w_prior2 = pm.Uniform(name='w', lower=-0.01, upper=0.01, shape=bnn_lv_chicken.weights.shape)\n",
    "    \n",
    "    # Latent variable prior (same shape as number of datapoints)\n",
    "    lv_prior2 = pm.Uniform(name='z', lower=-0.01, upper=0.01, shape=(clone_X.shape[0],1))\n",
    "    \n",
    "\n",
    "    y2 = pm.Normal(name='y', mu = bnn_lv_chicken.forward(X = clone_X, input_noise = lv_prior2, weights=w_prior2),\n",
    "                        sigma = l_sigma,\n",
    "                        observed = clone)\n",
    "\n",
    "\n",
    "    mean_field2 = pm.fit(method='advi',  \n",
    "                        callbacks=[pm.callbacks.CheckParametersConvergence()], #[pm.callbacks.CheckParametersConvergence(diff='absolute')]\n",
    "                        obj_optimizer=pm.adam(learning_rate=0.01), obj_n_mc=100)\n",
    "    \n",
    "    trace2 = mean_field2.sample(draws=my_draws)\n",
    "\n",
    "    #prior analysis\n",
    "    prior_pc2 = pm.sample_prior_predictive()\n",
    "    \n",
    "    #posterior predictive\n",
    "    ppc2 = pm.fast_sample_posterior_predictive(trace=trace2)\n",
    "    \n",
    "    #generate inference data\n",
    "    idata2 = az.from_pymc3(trace=trace2, prior=prior_pc2, posterior_predictive=ppc2, log_likelihood=True)"
   ]
  },
  {
   "cell_type": "code",
   "execution_count": null,
   "metadata": {},
   "outputs": [],
   "source": [
    "#step 5\n",
    "var_K = idata2.posterior.var((\"chain\", \"draw\"))"
   ]
  },
  {
   "cell_type": "code",
   "execution_count": null,
   "metadata": {},
   "outputs": [],
   "source": [
    "#step 5b\n",
    "scaled_var = var_K / var_1"
   ]
  },
  {
   "cell_type": "code",
   "execution_count": null,
   "metadata": {},
   "outputs": [],
   "source": [
    "#step 7 check difference between scaled variance and 1/K for a parameter \n",
    "#if non-id, scaled_var >> 1/K\n",
    "\n",
    "def difference(array, value):\n",
    "    \n",
    "    diff = []\n",
    "    for i in array:\n",
    "        delta = abs(i - value)\n",
    "        diff.append(delta)\n",
    "    \n",
    "    return diff\n",
    "\n",
    "def test_dif(diff, value, p):\n",
    "    \n",
    "    for i in diff:\n",
    "        if i > (1+p)*value:\n",
    "            return print(\"\"\"Difference is significant, so there is non-identifiability.\"\"\")\n",
    "        else:\n",
    "            continue\n",
    "    \n",
    "    return print(\"\"\"Difference is not significant, so the model is identifiable.\"\"\")"
   ]
  },
  {
   "cell_type": "code",
   "execution_count": null,
   "metadata": {},
   "outputs": [],
   "source": [
    "#check difference between scaled variance and 1/K for a parameter \n",
    "#if non-id, scaled_var >> 1/K\n",
    "scaled_var_z = scaled_var['z'][:,0].to_numpy()\n",
    "scaled_var_w = scaled_var['w'][0,:].to_numpy()\n",
    "\n",
    "\n",
    "test_dif(difference(scaled_var_z, 1/K), 1/K, 0.10)\n",
    "test_dif(difference(scaled_var_w, 1/K), 1/K, 0.10)     "
   ]
  },
  {
   "cell_type": "markdown",
   "metadata": {},
   "source": [
    "#### Assessment of mean for each chain for model (non-)identifiability\n",
    "Calculate the mean for each chain. They should be all the same, otherwise info from one chain is transferred to another chain, indicating model non-identifiability. "
   ]
  },
  {
   "cell_type": "code",
   "execution_count": null,
   "metadata": {},
   "outputs": [],
   "source": [
    "\n",
    "mu = []\n",
    "for i in idata.posterior.chain.values:\n",
    "    mu.append(np.mean(idata.posterior['w'][i,:,0,1])) #for both w and z and result_x and result_y\n",
    "\n",
    "print(mu)\n"
   ]
  },
  {
   "cell_type": "markdown",
   "metadata": {},
   "source": [
    "## Plots and calculations not directly related to non-identifiability analysis but that might be of importance"
   ]
  },
  {
   "cell_type": "code",
   "execution_count": null,
   "metadata": {},
   "outputs": [],
   "source": [
    "az.style.use(\"arviz-darkgrid\")"
   ]
  },
  {
   "cell_type": "code",
   "execution_count": null,
   "metadata": {
    "scrolled": true
   },
   "outputs": [],
   "source": [
    "az.plot_trace(trace, var_names=['z'], compact=False);\n"
   ]
  },
  {
   "cell_type": "code",
   "execution_count": null,
   "metadata": {},
   "outputs": [],
   "source": [
    "az.plot_trace(trace, var_names=['z'], compact=False);\n"
   ]
  },
  {
   "cell_type": "code",
   "execution_count": null,
   "metadata": {},
   "outputs": [],
   "source": [
    "with pm_model:    \n",
    "    axes = az.plot_pair(trace, var_names='w', scatter_kwargs={'alpha':0.5})\n",
    "\n",
    "    for ax in axes.flat:\n",
    "        ax.set_xlabel(None);\n",
    "        ax.set_ylabel(None);\n",
    "\n",
    "    axes[0,0].figure.tight_layout();"
   ]
  },
  {
   "cell_type": "code",
   "execution_count": null,
   "metadata": {},
   "outputs": [],
   "source": [
    "with pm_model:\n",
    "    pm.plot_posterior(trace)"
   ]
  },
  {
   "cell_type": "code",
   "execution_count": null,
   "metadata": {},
   "outputs": [],
   "source": []
  }
 ],
 "metadata": {
  "deepnote_execution_queue": [],
  "deepnote_notebook_id": "ab8843d4-740c-4d04-93ec-ff121a327f7d",
  "kernelspec": {
   "display_name": "Python 3 (ipykernel)",
   "language": "python",
   "name": "python3"
  },
  "language_info": {
   "codemirror_mode": {
    "name": "ipython",
    "version": 3
   },
   "file_extension": ".py",
   "mimetype": "text/x-python",
   "name": "python",
   "nbconvert_exporter": "python",
   "pygments_lexer": "ipython3",
   "version": "3.7.3"
  }
 },
 "nbformat": 4,
 "nbformat_minor": 4
}
