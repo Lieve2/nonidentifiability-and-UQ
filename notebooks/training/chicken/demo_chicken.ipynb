{
 "cells": [
  {
   "cell_type": "markdown",
   "source": [
    "### Wet-Chicken problem BNN_LV with PYMC3\n",
    "Using NUTS in pymc3 to sample from posterior of BNN_LV\n",
    "\n",
    "Samples saved out: `saved_samples/chicken_samples_pymc3.npy`"
   ],
   "metadata": {
    "cell_id": "00000-59f6c910-5ade-4cf9-b3d0-928d75701a67",
    "deepnote_cell_type": "markdown"
   }
  },
  {
   "cell_type": "code",
   "metadata": {
    "cell_id": "00001-3b43bc55-f5ab-48a7-8ca2-af9577d631c0",
    "output_cleared": false,
    "source_hash": "f70fad9f",
    "execution_millis": 1,
    "execution_start": 1608430058868,
    "deepnote_cell_type": "code"
   },
   "source": [
    "from autograd import numpy as np\n",
    "from autograd import grad\n",
    "from autograd.misc.optimizers import adam, sgd\n",
    "from autograd import scipy as sp\n",
    "import pandas as pd\n",
    "import numpy\n",
    "import matplotlib.pyplot as plt\n",
    "import sys\n",
    "import pymc3 as pm\n",
    "import theano.tensor as tt\n",
    "from IPython.core.debugger import set_trace\n",
    "%matplotlib inline"
   ],
   "execution_count": 1,
   "outputs": []
  },
  {
   "cell_type": "code",
   "metadata": {
    "cell_id": "00002-ef9c1abd-8269-456a-8246-828107afee9b",
    "deepnote_cell_type": "code"
   },
   "source": [
    "%load_ext autoreload\n",
    "%autoreload 2\n",
    "\n",
    "import sys\n",
    "sys.path.append('..')\n",
    "from utils.data_gen import sample_gaussian_mixture, generate_regression_outputs\n",
    "from utils.BNN_pymc3 import BNN_LV as BNN_LV_pymc3\n",
    "from utils.custom_callbacks_pymc3 import plot95ci, wb_scatter, build_wb_callback"
   ],
   "execution_count": 2,
   "outputs": []
  },
  {
   "cell_type": "markdown",
   "source": [
    "## Wet Chicken"
   ],
   "metadata": {
    "cell_id": "00003-a58ca3f9-4613-48a8-9166-549d5f741ea2",
    "deepnote_cell_type": "markdown"
   }
  },
  {
   "cell_type": "code",
   "metadata": {
    "cell_id": "00004-5f7e4d40-73fc-45d3-8efd-c35e418cacf4",
    "deepnote_cell_type": "code"
   },
   "source": [
    "from utils.games import WetChicken2D"
   ],
   "execution_count": 3,
   "outputs": []
  },
  {
   "cell_type": "markdown",
   "source": [
    "### Set up simulation and extract data"
   ],
   "metadata": {
    "cell_id": "00005-21080c40-12ce-4f14-865f-4ab45b615577",
    "deepnote_cell_type": "markdown"
   }
  },
  {
   "cell_type": "code",
   "metadata": {
    "cell_id": "00006-8b20c763-99fc-4985-88e2-2cac82c06d97",
    "deepnote_cell_type": "code"
   },
   "source": [
    "env = WetChicken2D(L=5, W=3, max_steps=20, seed=207)\n",
    "no_action_policy = lambda state: (0,0)  # For any state, play the \"do nothing\" action.\n",
    "random_policy = None  # If the policy is None, the simulator chooses an action at random.\n",
    "\n",
    "# choose to run on the no-action policy\n",
    "env.run(episodes=100, progress=100, policy=no_action_policy)"
   ],
   "execution_count": 4,
   "outputs": [
    {
     "name": "stdout",
     "output_type": "stream",
     "text": [
      "Episode 100/100 took 4 steps.\n"
     ]
    }
   ]
  },
  {
   "cell_type": "code",
   "metadata": {
    "cell_id": "00007-41012292-e6b8-41e6-bb55-1cbf5711591a",
    "deepnote_cell_type": "code"
   },
   "source": [
    "transitions = env.extract_transition_dataset()\n",
    "transitions = transitions.sample(frac=1, replace=False, random_state=123)\n",
    "transitions"
   ],
   "execution_count": 5,
   "outputs": [
    {
     "data": {
      "text/plain": "     start_x  start_y  action_x  action_y  result_x  result_y\n344        1        5         0         0         1         5\n482        3        4         0         0         3         0\n78         3        4         0         0         3         1\n185        1        5         0         0         1         5\n261        1        5         0         0         1         5\n..       ...      ...       ...       ...       ...       ...\n98         1        5         0         0         1         5\n322        1        5         0         0         1         5\n382        1        5         0         0         1         5\n365        2        2         0         0         2         0\n510        3        3         0         0         3         3\n\n[845 rows x 6 columns]",
      "text/html": "<div>\n<style scoped>\n    .dataframe tbody tr th:only-of-type {\n        vertical-align: middle;\n    }\n\n    .dataframe tbody tr th {\n        vertical-align: top;\n    }\n\n    .dataframe thead th {\n        text-align: right;\n    }\n</style>\n<table border=\"1\" class=\"dataframe\">\n  <thead>\n    <tr style=\"text-align: right;\">\n      <th></th>\n      <th>start_x</th>\n      <th>start_y</th>\n      <th>action_x</th>\n      <th>action_y</th>\n      <th>result_x</th>\n      <th>result_y</th>\n    </tr>\n  </thead>\n  <tbody>\n    <tr>\n      <th>344</th>\n      <td>1</td>\n      <td>5</td>\n      <td>0</td>\n      <td>0</td>\n      <td>1</td>\n      <td>5</td>\n    </tr>\n    <tr>\n      <th>482</th>\n      <td>3</td>\n      <td>4</td>\n      <td>0</td>\n      <td>0</td>\n      <td>3</td>\n      <td>0</td>\n    </tr>\n    <tr>\n      <th>78</th>\n      <td>3</td>\n      <td>4</td>\n      <td>0</td>\n      <td>0</td>\n      <td>3</td>\n      <td>1</td>\n    </tr>\n    <tr>\n      <th>185</th>\n      <td>1</td>\n      <td>5</td>\n      <td>0</td>\n      <td>0</td>\n      <td>1</td>\n      <td>5</td>\n    </tr>\n    <tr>\n      <th>261</th>\n      <td>1</td>\n      <td>5</td>\n      <td>0</td>\n      <td>0</td>\n      <td>1</td>\n      <td>5</td>\n    </tr>\n    <tr>\n      <th>...</th>\n      <td>...</td>\n      <td>...</td>\n      <td>...</td>\n      <td>...</td>\n      <td>...</td>\n      <td>...</td>\n    </tr>\n    <tr>\n      <th>98</th>\n      <td>1</td>\n      <td>5</td>\n      <td>0</td>\n      <td>0</td>\n      <td>1</td>\n      <td>5</td>\n    </tr>\n    <tr>\n      <th>322</th>\n      <td>1</td>\n      <td>5</td>\n      <td>0</td>\n      <td>0</td>\n      <td>1</td>\n      <td>5</td>\n    </tr>\n    <tr>\n      <th>382</th>\n      <td>1</td>\n      <td>5</td>\n      <td>0</td>\n      <td>0</td>\n      <td>1</td>\n      <td>5</td>\n    </tr>\n    <tr>\n      <th>365</th>\n      <td>2</td>\n      <td>2</td>\n      <td>0</td>\n      <td>0</td>\n      <td>2</td>\n      <td>0</td>\n    </tr>\n    <tr>\n      <th>510</th>\n      <td>3</td>\n      <td>3</td>\n      <td>0</td>\n      <td>0</td>\n      <td>3</td>\n      <td>3</td>\n    </tr>\n  </tbody>\n</table>\n<p>845 rows × 6 columns</p>\n</div>"
     },
     "execution_count": 5,
     "metadata": {},
     "output_type": "execute_result"
    }
   ]
  },
  {
   "cell_type": "code",
   "metadata": {
    "cell_id": "00008-1aa35825-e4a5-4f99-9081-cd542084cda0",
    "deepnote_cell_type": "code"
   },
   "source": [
    "# Build training data (ignore X dimension and try to use starting Y position and Y action to predict landing Y position):\n",
    "X_train = transitions[['start_x','start_y','action_x','action_y']].to_numpy()\n",
    "Y_train = transitions[['result_x','result_y']].to_numpy()\n",
    "\n",
    "print('X :',X_train.shape)\n",
    "print('Y :',Y_train.shape)\n"
   ],
   "execution_count": 6,
   "outputs": [
    {
     "name": "stdout",
     "output_type": "stream",
     "text": [
      "X : (845, 4)\n",
      "Y : (845, 2)\n"
     ]
    }
   ]
  },
  {
   "cell_type": "markdown",
   "source": [
    "### Setup BNN_LV architecture and perform MLE fit"
   ],
   "metadata": {
    "cell_id": "00009-7cf77abe-b680-458e-860b-3ddcad195e48",
    "deepnote_cell_type": "markdown"
   }
  },
  {
   "cell_type": "code",
   "metadata": {
    "cell_id": "00010-d5baf91c-c56d-491a-ab75-45919476962c",
    "deepnote_cell_type": "code"
   },
   "source": [
    "# Parameters\n",
    "gamma_chicken = 1\n",
    "sigma_chicken = 1\n",
    "\n",
    "architecture_chicken = {'input_n':4, \n",
    "             'output_n':2, \n",
    "             'hidden_layers':[20,20],\n",
    "             'biases' : [1,1,1],\n",
    "             'activations' : ['relu', 'relu', 'linear'],\n",
    "             'gamma':[gamma_chicken],\n",
    "             'sigma':[sigma_chicken,sigma_chicken]}\n",
    "\n",
    "bnn_lv_chicken = BNN_LV_pymc3(architecture=architecture_chicken)\n",
    "\n",
    "bnn_lv_chicken.fit(X_train, Y_train, step_size=0.01, max_iteration=5000, check_point=500, regularization_coef=None)"
   ],
   "execution_count": 7,
   "outputs": [
    {
     "name": "stdout",
     "output_type": "stream",
     "text": [
      "Iteration 0 lower bound 10261.442453691097; gradient mag: 21343.807468401326\n",
      "Iteration 500 lower bound 1.2855019894939093; gradient mag: 4.454922543872159\n",
      "Iteration 1000 lower bound 0.6725601176985965; gradient mag: 1.4737438678030916\n",
      "Iteration 1500 lower bound 0.4625975141858506; gradient mag: 0.8132697922240075\n",
      "Iteration 2000 lower bound 0.3830472018307709; gradient mag: 0.482031395087857\n",
      "Iteration 2500 lower bound 0.34539502088699414; gradient mag: 0.2856555371384487\n",
      "Iteration 3000 lower bound 0.3267464129270182; gradient mag: 0.17875239396716047\n",
      "Iteration 3500 lower bound 0.3177072434747046; gradient mag: 0.10119351185466771\n",
      "Iteration 4000 lower bound 0.3138387209103612; gradient mag: 0.05704341375316368\n",
      "Iteration 4500 lower bound 0.3121992429559065; gradient mag: 0.05813184279935818\n"
     ]
    }
   ]
  },
  {
   "cell_type": "markdown",
   "source": [
    "### Prepare parameters for pymc3 sampling"
   ],
   "metadata": {
    "collapsed": false
   }
  },
  {
   "cell_type": "code",
   "metadata": {
    "cell_id": "00012-0575caae-6b57-4771-81d0-2cce605638fd",
    "deepnote_cell_type": "code"
   },
   "source": [
    "p_mu = 0\n",
    "p_sigma = 5\n",
    "l_sigma = 0.25\n",
    "lv_gamma = 2 # usual, multiplied by 2\n",
    "\n",
    "my_tune = 500\n",
    "my_draws = 400\n",
    "my_target_accept = 0.9\n",
    "my_max_treedepth = 15"
   ],
   "execution_count": null,
   "outputs": []
  },
  {
   "cell_type": "markdown",
   "source": "### Run pymc3",
   "metadata": {
    "cell_id": "00013-9dfdbd94-0721-4c12-91ca-87b8cea2ea55",
    "deepnote_cell_type": "markdown"
   }
  },
  {
   "cell_type": "code",
   "metadata": {
    "cell_id": "00014-53d15561-6189-42cf-b902-19563ecd58af",
    "deepnote_cell_type": "code"
   },
   "source": "with pm.Model() as pm_model:\n    \n    # Prior on w (same shape as MLE)\n    w_prior = pm.Normal('w', mu=p_mu, sigma=p_sigma, shape=bnn_lv_chicken.weights.shape) \n    \n    # Latent variable prior (same shape as number of datapoints)\n    lv_prior = pm.Normal('z', mu=0, sigma=lv_gamma, shape=(X_train.shape[0],1))\n        \n    y = pm.Normal('y', mu = bnn_lv_chicken.forward(X = X_train, input_noise = lv_prior, weights=w_prior),\n                       sigma = l_sigma,\n                       observed = Y_train)\n    \n    trace = pm.sample(tune=my_tune, draws=my_draws, start = {'w': bnn_lv_chicken.weights},\n                      target_accept = my_target_accept, max_treedepth = my_max_treedepth)",
   "execution_count": 9,
   "outputs": []
  },
  {
   "cell_type": "markdown",
   "source": "### Complete sampling and save/load samples obtained",
   "metadata": {
    "cell_id": "00015-1333cd21-cef9-41be-a8c5-48fdb079ce5a",
    "deepnote_cell_type": "markdown"
   }
  },
  {
   "cell_type": "code",
   "metadata": {
    "cell_id": "00016-65fd1098-c22a-46e8-a94e-9b8e34020ea2",
    "output_cleared": false,
    "source_hash": "828fb1b5",
    "execution_start": 1608430063600,
    "execution_millis": 0,
    "deepnote_cell_type": "code"
   },
   "source": "# np.save('saved_samples/chicken_samples_pymc3.npy',trace['w'])\nposterior_samples_pymc3_chicken = np.load('saved_samples/chicken_samples_pymc3.npy')",
   "execution_count": 4,
   "outputs": []
  },
  {
   "cell_type": "code",
   "metadata": {
    "cell_id": "00017-1f79590f-f661-4a9c-97d2-399b9a056417",
    "output_cleared": false,
    "source_hash": "41f94063",
    "execution_start": 1608430064626,
    "execution_millis": 3,
    "deepnote_cell_type": "code"
   },
   "source": "posterior_samples_pymc3_chicken.shape",
   "execution_count": 5,
   "outputs": [
    {
     "output_type": "execute_result",
     "execution_count": 5,
     "data": {
      "text/plain": "(1600, 1, 582)"
     },
     "metadata": {}
    }
   ]
  }
 ],
 "nbformat": 4,
 "nbformat_minor": 4,
 "metadata": {
  "kernelspec": {
   "display_name": "Python 3",
   "language": "python",
   "name": "python3"
  },
  "language_info": {
   "codemirror_mode": {
    "name": "ipython",
    "version": 3
   },
   "file_extension": ".py",
   "mimetype": "text/x-python",
   "name": "python",
   "nbconvert_exporter": "python",
   "pygments_lexer": "ipython3",
   "version": "3.7.8"
  },
  "deepnote_notebook_id": "ab8843d4-740c-4d04-93ec-ff121a327f7d",
  "deepnote_execution_queue": []
 }
}